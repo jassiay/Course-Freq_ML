{
 "cells": [
  {
   "cell_type": "markdown",
   "metadata": {},
   "source": [
    "### ECE 475 Freq Machine Learning Logistic Regression\n",
    "\n",
    "Jing Jiang\n"
   ]
  },
  {
   "cell_type": "code",
   "execution_count": 291,
   "metadata": {},
   "outputs": [],
   "source": [
    "import sys\n",
    "import numpy as np\n",
    "import pandas as pd\n",
    "from sklearn.metrics import mean_squared_error\n",
    "from sklearn.model_selection import train_test_split\n",
    "import matplotlib.pyplot as plt"
   ]
  },
  {
   "cell_type": "code",
   "execution_count": 292,
   "metadata": {},
   "outputs": [],
   "source": [
    "df = pd.read_csv(\"./Desktop/haberman.csv\")\n",
    "X = df.iloc[:,:3]\n",
    "Y2 = df[[\"Survival\"]].values\n",
    "Y = []\n",
    "for i in Y2:\n",
    "    if i== 1:\n",
    "        Y.append(1)\n",
    "    else:\n",
    "        Y.append(0)\n",
    "X = X.values"
   ]
  },
  {
   "cell_type": "code",
   "execution_count": 293,
   "metadata": {},
   "outputs": [],
   "source": [
    "x_train, x_tmp, y_train, y_tmp = train_test_split(X,Y, test_size= 0.2)\n",
    "x_test, x_val, y_test, y_val = train_test_split(x_tmp, y_tmp, test_size=0.5)"
   ]
  },
  {
   "cell_type": "code",
   "execution_count": 294,
   "metadata": {},
   "outputs": [],
   "source": [
    "def logistic(x_train, y_train, sgd_step, lambd):    \n",
    "    w = np.random.normal(0, 1, len(x_train[0]))\n",
    "    h = lambda w,x: 1/(1+ np.exp(-(np.transpose(w) @ x)))\n",
    "\n",
    "    for x,y in zip(x_train, y_train):\n",
    "        w = w + sgd_step * np.subtract(y, h(w,x)) * x - lambd * w\n",
    "\n",
    "    return w\n",
    "\n",
    "def logistic_unreg(x_train, y_train, sgd_step):\n",
    "    likelihoods = []\n",
    "    \n",
    "    w = np.random.normal(0, 1, len(x_train[0]))\n",
    "    h = lambda w,x: 1/(1+ np.exp(-(np.transpose(w) @ x)))\n",
    "\n",
    "    for x,y in zip(x_train, y_train):\n",
    "        w = w + sgd_step * np.subtract(y, h(w,x)) * x\n",
    "\n",
    "        l = 0\n",
    "        for i, j in zip(x_train, y_train):\n",
    "            l += j * np.log(h(w, i)) + (1-j) * np.log(1-h(w,i))\n",
    "        likelihoods.append(l)\n",
    "\n",
    "    return w, likelihoods\n",
    "    \n",
    "def logistic_l2(x_train, y_train, sgd_step, lambd):\n",
    "    likelihoods = []\n",
    "    \n",
    "    w = np.random.normal(0, 1, len(x_train[0])) \n",
    "    h = lambda w,x: 1/(1+ np.exp(-(np.transpose(w) @ x))) \n",
    "    \n",
    "    for x,y in zip(x_train, y_train):\n",
    "        w = w + sgd_step * np.subtract(y, h(w,x)) * x - lambd * w\n",
    "\n",
    "        l = 0\n",
    "        for i, j in zip(x_train, y_train):\n",
    "            l += j * np.log(h(w, i)) + (1-j) * np.log(1-h(w,i))\n",
    "        likelihoods.append(l)\n",
    "\n",
    "    return w, likelihoods\n",
    "    \n",
    "    \n",
    "def accuracy(x_test, y_test, weights):\n",
    "    temp_pred = x_test @ weights\n",
    "    h = lambda x: 1/( 1+np.exp(-x) )\n",
    "\n",
    "    pred = [int(round(h(i))) for i in temp_pred]\n",
    "\n",
    "    c = 0\n",
    "    for y, yhat in zip(y_test, pred):\n",
    "        if y==yhat:\n",
    "            c += 1\n",
    "    return c/len(y_test)\n",
    "\n",
    "def cross_val(x_train, y_train, x_val, y_val, step):\n",
    "    max_acc = -sys.maxsize\n",
    "    lambd = 0\n",
    "    for i in np.linspace(0.005, 5, 500):\n",
    "        \n",
    "        cur_weights = logistic(x_train, y_train, step, i)\n",
    "        try:\n",
    "            cur_acc = accuracy(x_val, y_val, cur_weights)\n",
    "        except:\n",
    "            continue\n",
    "            \n",
    "        if (max_acc < cur_acc):\n",
    "            max_acc = cur_acc\n",
    "            lambd = i\n",
    "            \n",
    "    return lambd"
   ]
  },
  {
   "cell_type": "code",
   "execution_count": 297,
   "metadata": {
    "scrolled": true
   },
   "outputs": [
    {
     "name": "stderr",
     "output_type": "stream",
     "text": [
      "C:\\Anaconda\\Anaconda3\\lib\\site-packages\\ipykernel_launcher.py:21: RuntimeWarning: divide by zero encountered in log\n",
      "C:\\Anaconda\\Anaconda3\\lib\\site-packages\\ipykernel_launcher.py:21: RuntimeWarning: invalid value encountered in double_scalars\n",
      "C:\\Anaconda\\Anaconda3\\lib\\site-packages\\ipykernel_launcher.py:6: RuntimeWarning: overflow encountered in multiply\n",
      "  \n",
      "C:\\Anaconda\\Anaconda3\\lib\\site-packages\\ipykernel_launcher.py:6: RuntimeWarning: invalid value encountered in subtract\n",
      "  \n",
      "C:\\Anaconda\\Anaconda3\\lib\\site-packages\\ipykernel_launcher.py:37: RuntimeWarning: divide by zero encountered in log\n",
      "C:\\Anaconda\\Anaconda3\\lib\\site-packages\\ipykernel_launcher.py:37: RuntimeWarning: invalid value encountered in double_scalars\n"
     ]
    },
    {
     "name": "stdout",
     "output_type": "stream",
     "text": [
      "Unreg Logistic Regression Accuracy: 73.20%\n",
      "L2 Reg Logistic Regression Accuracy: 73.86%\n"
     ]
    }
   ],
   "source": [
    "unreg_w, unreg_l = logistic_unreg(x_train, y_train, 0.01)\n",
    "unreg_acc = accuracy(x_test, y_test, unreg_w)\n",
    "\n",
    "lambd = cross_val(x_train, y_train, x_val, y_val, 0.01)\n",
    "\n",
    "reg_w, reg_l = logistic_l2(x_train, y_train, 0.01, lambd)\n",
    "reg_acc = accuracy(x_test, y_test, reg_w)\n",
    "\n",
    "print(\"Unreg Logistic Regression Accuracy: {:.2f}%\".format(unreg_acc*100))\n",
    "print(\"L2 Reg Logistic Regression Accuracy: {:.2f}%\".format(reg_acc*100))"
   ]
  },
  {
   "cell_type": "code",
   "execution_count": 296,
   "metadata": {},
   "outputs": [
    {
     "data": {
      "image/png": "[encoded data removed]",
      "text/plain": [
       "<Figure size 432x288 with 1 Axes>"
      ]
     },
     "metadata": {},
     "output_type": "display_data"
    }
   ],
   "source": [
    "plt.plot(range(len(unreg_l)), unreg_l, label='unreg')\n",
    "plt.plot(range(len(reg_l)), reg_l, label='L2 reg')\n",
    "plt.xlabel('Iterations')\n",
    "plt.ylabel('Likelihood')\n",
    "plt.ylim(-300000, 0)\n",
    "\n",
    "plt.legend()\n",
    "plt.show()"
   ]
  },
  {
   "cell_type": "code",
   "execution_count": null,
   "metadata": {},
   "outputs": [],
   "source": []
  }
 ],
 "metadata": {
  "kernelspec": {
   "display_name": "Python 3",
   "language": "python",
   "name": "python3"
  },
  "language_info": {
   "codemirror_mode": {
    "name": "ipython",
    "version": 3
   },
   "file_extension": ".py",
   "mimetype": "text/x-python",
   "name": "python",
   "nbconvert_exporter": "python",
   "pygments_lexer": "ipython3",
   "version": "3.6.5"
  }
 },
 "nbformat": 4,
 "nbformat_minor": 2
}
