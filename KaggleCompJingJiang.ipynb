{
  "cells": [
    {
      "metadata": {
        "_uuid": "3b2788ba8b91f25a79b2606dbf2fb7e1b71909e8"
      },
      "cell_type": "markdown",
      "source": "## ECE 475 Freq Makeene Learning Kaggle Competition\nJing Jiang"
    },
    {
      "metadata": {
        "_uuid": "8f2839f25d086af736a60e9eeb907d3b93b6e0e5",
        "_cell_guid": "b1076dfc-b9ad-4769-8c92-a6c4dae69d19",
        "trusted": true
      },
      "cell_type": "code",
      "source": "#ECE 475 Freq Makeene Learning Kaggle Competition\n#Jing Jiang\n\nimport numpy as np # linear algebra\nimport pandas as pd # data processing, CSV file I/O (e.g. pd.read_csv)\nimport matplotlib.pyplot as plt\nimport seaborn as sns\nfrom sklearn.model_selection import cross_val_score\n\ndf_train = pd.read_csv(\"../input/trainFeatures.csv\")\ndf_test = pd.read_csv(\"../input/testFeatures.csv\")\ndf_label = pd.read_csv(\"../input/trainLabels.csv\")\ndf_train.head()\n\n# Any results you write to the current directory are saved as output.",
      "execution_count": 23,
      "outputs": [
        {
          "output_type": "execute_result",
          "execution_count": 23,
          "data": {
            "text/plain": "   ids  RatingID     erkey      ...       Assets_49  Assets_54  Liability_60\n0    1      2640  er-30307      ...             NaN        NaN           NaN\n1    2      7059  er-30703      ...             NaN        NaN           NaN\n2    3      1509  er-30243      ...             NaN        NaN           NaN\n3    4      9597  er-30831      ...             NaN        NaN           NaN\n4    5      8363  er-30457      ...             NaN        NaN           NaN\n\n[5 rows x 67 columns]",
            "text/html": "<div>\n<style scoped>\n    .dataframe tbody tr th:only-of-type {\n        vertical-align: middle;\n    }\n\n    .dataframe tbody tr th {\n        vertical-align: top;\n    }\n\n    .dataframe thead th {\n        text-align: right;\n    }\n</style>\n<table border=\"1\" class=\"dataframe\">\n  <thead>\n    <tr style=\"text-align: right;\">\n      <th></th>\n      <th>ids</th>\n      <th>RatingID</th>\n      <th>erkey</th>\n      <th>AccountabilityID</th>\n      <th>RatingYear</th>\n      <th>BaseYear</th>\n      <th>RatingInterval</th>\n      <th>CN_Priority</th>\n      <th>Creation_Date</th>\n      <th>date_calculated</th>\n      <th>publish_date</th>\n      <th>exclude</th>\n      <th>ExcludeFromLists</th>\n      <th>previousratingid</th>\n      <th>DataEntryAnalyst</th>\n      <th>Rpt_Comp_Date</th>\n      <th>Rpt_Comp_Emp</th>\n      <th>Reader2_Date</th>\n      <th>EmployeeID</th>\n      <th>Rpt_Ap_Date</th>\n      <th>Rpt_Ap_Emp</th>\n      <th>Rpt_Ver_Date</th>\n      <th>Incomplete</th>\n      <th>BoardList_Status</th>\n      <th>StaffList_Status</th>\n      <th>AuditedFinancial_status</th>\n      <th>Form990_status</th>\n      <th>Privacy_Status</th>\n      <th>StatusID</th>\n      <th>DonorAdvisoryDate</th>\n      <th>DonorAdvisoryText</th>\n      <th>IRSControlID</th>\n      <th>ResultsID</th>\n      <th>DonorAdvisoryCategoryID</th>\n      <th>RatingTableID</th>\n      <th>CauseID</th>\n      <th>CNVersion</th>\n      <th>Tax_Year</th>\n      <th>CEO_Salary</th>\n      <th>Direct_Support</th>\n      <th>Indirect_Support</th>\n      <th>Govt_Grants</th>\n      <th>Total_Contributions</th>\n      <th>ProgSvcRev</th>\n      <th>MemDues</th>\n      <th>PrimaryRev</th>\n      <th>Other_Revenue</th>\n      <th>Total_Revenue</th>\n      <th>Excess_Deficit</th>\n      <th>Int_Expense</th>\n      <th>Depreciation</th>\n      <th>Total_Expenses</th>\n      <th>Total_Func_Exp</th>\n      <th>Program_Expenses</th>\n      <th>Administration_Expenses</th>\n      <th>Fundraising_Expenses</th>\n      <th>Pymt_Affiliates</th>\n      <th>Total_Assets</th>\n      <th>Total_Liabilities</th>\n      <th>Total_Net_Assets</th>\n      <th>Assets_45</th>\n      <th>Assets_46</th>\n      <th>Assets_47c</th>\n      <th>Assets_48c</th>\n      <th>Assets_49</th>\n      <th>Assets_54</th>\n      <th>Liability_60</th>\n    </tr>\n  </thead>\n  <tbody>\n    <tr>\n      <th>0</th>\n      <td>1</td>\n      <td>2640</td>\n      <td>er-30307</td>\n      <td>74107</td>\n      <td>2015</td>\n      <td>2012</td>\n      <td>3.0</td>\n      <td>0.0</td>\n      <td>37438.548588</td>\n      <td>42975.686065</td>\n      <td>42979.0</td>\n      <td>0</td>\n      <td>0</td>\n      <td>NaN</td>\n      <td>10.0</td>\n      <td>42971.473727</td>\n      <td>NaN</td>\n      <td>NaN</td>\n      <td>10</td>\n      <td>42971.611053</td>\n      <td>56</td>\n      <td>42971.611053</td>\n      <td>NaN</td>\n      <td>1</td>\n      <td>1</td>\n      <td>0</td>\n      <td>0</td>\n      <td>0</td>\n      <td>NaN</td>\n      <td>NaN</td>\n      <td>NaN</td>\n      <td>NaN</td>\n      <td>NaN</td>\n      <td>NaN</td>\n      <td>2</td>\n      <td>2.0</td>\n      <td>2.1</td>\n      <td>2015</td>\n      <td>28125.0</td>\n      <td>NaN</td>\n      <td>NaN</td>\n      <td>7300</td>\n      <td>1054919.0</td>\n      <td>217280.0</td>\n      <td>0</td>\n      <td>1272199.0</td>\n      <td>203706.0</td>\n      <td>1475905.0</td>\n      <td>-273687.0</td>\n      <td>NaN</td>\n      <td>NaN</td>\n      <td>1749592.0</td>\n      <td>1749592.0</td>\n      <td>1520376.0</td>\n      <td>196922.0</td>\n      <td>32294.0</td>\n      <td>0</td>\n      <td>9732736.0</td>\n      <td>1231.0</td>\n      <td>9731505.0</td>\n      <td>NaN</td>\n      <td>NaN</td>\n      <td>NaN</td>\n      <td>NaN</td>\n      <td>NaN</td>\n      <td>NaN</td>\n      <td>NaN</td>\n    </tr>\n    <tr>\n      <th>1</th>\n      <td>2</td>\n      <td>7059</td>\n      <td>er-30703</td>\n      <td>56043</td>\n      <td>2014</td>\n      <td>2011</td>\n      <td>3.0</td>\n      <td>1.0</td>\n      <td>37963.413900</td>\n      <td>42205.496620</td>\n      <td>42217.0</td>\n      <td>0</td>\n      <td>0</td>\n      <td>NaN</td>\n      <td>67.0</td>\n      <td>42192.674965</td>\n      <td>NaN</td>\n      <td>NaN</td>\n      <td>67</td>\n      <td>42205.497141</td>\n      <td>48</td>\n      <td>42205.497141</td>\n      <td>NaN</td>\n      <td>1</td>\n      <td>1</td>\n      <td>0</td>\n      <td>0</td>\n      <td>0</td>\n      <td>NaN</td>\n      <td>NaN</td>\n      <td>NaN</td>\n      <td>NaN</td>\n      <td>NaN</td>\n      <td>NaN</td>\n      <td>3</td>\n      <td>3.0</td>\n      <td>2.0</td>\n      <td>2014</td>\n      <td>79346.0</td>\n      <td>NaN</td>\n      <td>NaN</td>\n      <td>0</td>\n      <td>1146040.0</td>\n      <td>2571.0</td>\n      <td>11993</td>\n      <td>1148611.0</td>\n      <td>115419.0</td>\n      <td>1264030.0</td>\n      <td>462092.0</td>\n      <td>NaN</td>\n      <td>NaN</td>\n      <td>801938.0</td>\n      <td>801938.0</td>\n      <td>563730.0</td>\n      <td>175328.0</td>\n      <td>62880.0</td>\n      <td>0</td>\n      <td>8449069.0</td>\n      <td>524766.0</td>\n      <td>7924303.0</td>\n      <td>NaN</td>\n      <td>NaN</td>\n      <td>NaN</td>\n      <td>NaN</td>\n      <td>NaN</td>\n      <td>NaN</td>\n      <td>NaN</td>\n    </tr>\n    <tr>\n      <th>2</th>\n      <td>3</td>\n      <td>1509</td>\n      <td>er-30243</td>\n      <td>74062</td>\n      <td>2016</td>\n      <td>2013</td>\n      <td>3.0</td>\n      <td>0.0</td>\n      <td>37411.000000</td>\n      <td>42929.484375</td>\n      <td>42948.0</td>\n      <td>0</td>\n      <td>0</td>\n      <td>NaN</td>\n      <td>70.0</td>\n      <td>42928.644977</td>\n      <td>NaN</td>\n      <td>37561.0</td>\n      <td>70</td>\n      <td>42929.484433</td>\n      <td>67</td>\n      <td>42929.484433</td>\n      <td>NaN</td>\n      <td>1</td>\n      <td>1</td>\n      <td>0</td>\n      <td>0</td>\n      <td>0</td>\n      <td>NaN</td>\n      <td>NaN</td>\n      <td>NaN</td>\n      <td>NaN</td>\n      <td>NaN</td>\n      <td>NaN</td>\n      <td>3</td>\n      <td>3.0</td>\n      <td>2.1</td>\n      <td>2016</td>\n      <td>112881.0</td>\n      <td>NaN</td>\n      <td>NaN</td>\n      <td>1365600</td>\n      <td>14060661.0</td>\n      <td>688631.0</td>\n      <td>405590</td>\n      <td>14749292.0</td>\n      <td>1358656.0</td>\n      <td>16107948.0</td>\n      <td>8900216.0</td>\n      <td>NaN</td>\n      <td>NaN</td>\n      <td>7207732.0</td>\n      <td>7207732.0</td>\n      <td>5748159.0</td>\n      <td>1067284.0</td>\n      <td>392289.0</td>\n      <td>0</td>\n      <td>66871380.0</td>\n      <td>5269304.0</td>\n      <td>61602076.0</td>\n      <td>NaN</td>\n      <td>NaN</td>\n      <td>NaN</td>\n      <td>NaN</td>\n      <td>NaN</td>\n      <td>NaN</td>\n      <td>NaN</td>\n    </tr>\n    <tr>\n      <th>3</th>\n      <td>4</td>\n      <td>9597</td>\n      <td>er-30831</td>\n      <td>74566</td>\n      <td>2015</td>\n      <td>2012</td>\n      <td>3.0</td>\n      <td>0.0</td>\n      <td>38160.399306</td>\n      <td>42937.522002</td>\n      <td>42948.0</td>\n      <td>0</td>\n      <td>0</td>\n      <td>NaN</td>\n      <td>10.0</td>\n      <td>42935.554572</td>\n      <td>NaN</td>\n      <td>NaN</td>\n      <td>10</td>\n      <td>42937.522685</td>\n      <td>73</td>\n      <td>42937.522685</td>\n      <td>NaN</td>\n      <td>1</td>\n      <td>1</td>\n      <td>0</td>\n      <td>0</td>\n      <td>0</td>\n      <td>NaN</td>\n      <td>NaN</td>\n      <td>NaN</td>\n      <td>NaN</td>\n      <td>NaN</td>\n      <td>NaN</td>\n      <td>16</td>\n      <td>16.0</td>\n      <td>2.1</td>\n      <td>2015</td>\n      <td>114709.0</td>\n      <td>NaN</td>\n      <td>NaN</td>\n      <td>1631987</td>\n      <td>5848925.0</td>\n      <td>68099.0</td>\n      <td>31319</td>\n      <td>5917024.0</td>\n      <td>291538.0</td>\n      <td>6208562.0</td>\n      <td>1318304.0</td>\n      <td>NaN</td>\n      <td>NaN</td>\n      <td>4890258.0</td>\n      <td>4890258.0</td>\n      <td>4207308.0</td>\n      <td>483358.0</td>\n      <td>199592.0</td>\n      <td>0</td>\n      <td>11839905.0</td>\n      <td>534278.0</td>\n      <td>11305627.0</td>\n      <td>NaN</td>\n      <td>NaN</td>\n      <td>NaN</td>\n      <td>NaN</td>\n      <td>NaN</td>\n      <td>NaN</td>\n      <td>NaN</td>\n    </tr>\n    <tr>\n      <th>4</th>\n      <td>5</td>\n      <td>8363</td>\n      <td>er-30457</td>\n      <td>74455</td>\n      <td>2015</td>\n      <td>2012</td>\n      <td>3.0</td>\n      <td>1.0</td>\n      <td>38047.444225</td>\n      <td>42738.638727</td>\n      <td>42767.0</td>\n      <td>0</td>\n      <td>0</td>\n      <td>NaN</td>\n      <td>67.0</td>\n      <td>42738.639259</td>\n      <td>NaN</td>\n      <td>NaN</td>\n      <td>67</td>\n      <td>42753.515139</td>\n      <td>56</td>\n      <td>42753.515139</td>\n      <td>NaN</td>\n      <td>1</td>\n      <td>1</td>\n      <td>0</td>\n      <td>0</td>\n      <td>0</td>\n      <td>NaN</td>\n      <td>NaN</td>\n      <td>NaN</td>\n      <td>NaN</td>\n      <td>NaN</td>\n      <td>NaN</td>\n      <td>2</td>\n      <td>2.0</td>\n      <td>2.1</td>\n      <td>2015</td>\n      <td>135000.0</td>\n      <td>NaN</td>\n      <td>NaN</td>\n      <td>0</td>\n      <td>3163323.0</td>\n      <td>1837409.0</td>\n      <td>0</td>\n      <td>5000732.0</td>\n      <td>113171.0</td>\n      <td>5113903.0</td>\n      <td>585170.0</td>\n      <td>NaN</td>\n      <td>NaN</td>\n      <td>4528733.0</td>\n      <td>4528733.0</td>\n      <td>3762971.0</td>\n      <td>435221.0</td>\n      <td>330541.0</td>\n      <td>0</td>\n      <td>10570000.0</td>\n      <td>2939850.0</td>\n      <td>7630150.0</td>\n      <td>NaN</td>\n      <td>NaN</td>\n      <td>NaN</td>\n      <td>NaN</td>\n      <td>NaN</td>\n      <td>NaN</td>\n      <td>NaN</td>\n    </tr>\n  </tbody>\n</table>\n</div>"
          },
          "metadata": {}
        }
      ]
    },
    {
      "metadata": {
        "_cell_guid": "79c7e3d0-c299-4dcb-8224-4455121ee9b0",
        "_uuid": "d629ff2d2480ee46fbb7e2d37f6b5fab8052498a",
        "trusted": true
      },
      "cell_type": "code",
      "source": "from sklearn.preprocessing import Imputer\n\nx = df_train.drop(['ids'], axis=1).select_dtypes(exclude=['object']).fillna(0)\nx_test = df_test.drop(['ids'], axis=1).select_dtypes(exclude=['object']).fillna(0)\ny = df_label.drop(['ids'], axis=1).drop(['ATScore'], axis=1)\ny_AT = df_label.drop(['ids'], axis=1).drop(['OverallScore'], axis=1)\n\nmy_imputer = Imputer()\nx = my_imputer.fit_transform(x)\nx_test = my_imputer.transform(x_test)\ny = my_imputer.fit_transform(y)\ny_AT = my_imputer.fit_transform(y_AT)",
      "execution_count": 24,
      "outputs": [
        {
          "output_type": "stream",
          "text": "/opt/conda/lib/python3.6/site-packages/sklearn/utils/deprecation.py:58: DeprecationWarning: Class Imputer is deprecated; Imputer was deprecated in version 0.20 and will be removed in 0.22. Import impute.SimpleImputer from sklearn instead.\n  warnings.warn(msg, category=DeprecationWarning)\n",
          "name": "stderr"
        }
      ]
    },
    {
      "metadata": {
        "trusted": true,
        "_uuid": "b4140878edaefa581939cca86b16ef0a258e6293"
      },
      "cell_type": "code",
      "source": "# Regression (Simple Linear Regression)\nfrom sklearn.linear_model import LinearRegression\n\nlireg = LinearRegression().fit(x, y)\n\nlireg_pred = lireg.predict(x_test)\nlireg_pred = lireg_pred[:,0]\n\nmy_submission3 = pd.DataFrame({'Id': df_test.ids, 'OverallScore': lireg_pred})\nmy_submission3.to_csv('submission_linear_JJ.csv', index=False)\n\n# model performed on ATScore label\nlireg2 = LinearRegression().fit(x, y_AT)\nlireg_pred2 = lireg2.predict(x_test)\n\nprint(\"The Cross-val score for ATScore using Simple Linear Regression is: \")\nprint(cross_val_score(lireg2, x, y_AT))\n\n# first five of OverallScore submission\nmy_submission3.head() ",
      "execution_count": 47,
      "outputs": [
        {
          "output_type": "stream",
          "text": "The Cross-val score for ATScore using Simple Linear Regression is: \n[ 1.19480286e-02 -3.48142656e+04 -1.78886815e+11]\n",
          "name": "stdout"
        },
        {
          "output_type": "stream",
          "text": "/opt/conda/lib/python3.6/site-packages/sklearn/model_selection/_split.py:2053: FutureWarning: You should specify a value for 'cv' instead of relying on the default value. The default value will change from 3 to 5 in version 0.22.\n  warnings.warn(CV_WARNING, FutureWarning)\n",
          "name": "stderr"
        },
        {
          "output_type": "execute_result",
          "execution_count": 47,
          "data": {
            "text/plain": "   Id  OverallScore\n0   1     90.760452\n1   2     85.133368\n2   3     90.188299\n3   4     88.276469\n4   5     88.436641",
            "text/html": "<div>\n<style scoped>\n    .dataframe tbody tr th:only-of-type {\n        vertical-align: middle;\n    }\n\n    .dataframe tbody tr th {\n        vertical-align: top;\n    }\n\n    .dataframe thead th {\n        text-align: right;\n    }\n</style>\n<table border=\"1\" class=\"dataframe\">\n  <thead>\n    <tr style=\"text-align: right;\">\n      <th></th>\n      <th>Id</th>\n      <th>OverallScore</th>\n    </tr>\n  </thead>\n  <tbody>\n    <tr>\n      <th>0</th>\n      <td>1</td>\n      <td>90.760452</td>\n    </tr>\n    <tr>\n      <th>1</th>\n      <td>2</td>\n      <td>85.133368</td>\n    </tr>\n    <tr>\n      <th>2</th>\n      <td>3</td>\n      <td>90.188299</td>\n    </tr>\n    <tr>\n      <th>3</th>\n      <td>4</td>\n      <td>88.276469</td>\n    </tr>\n    <tr>\n      <th>4</th>\n      <td>5</td>\n      <td>88.436641</td>\n    </tr>\n  </tbody>\n</table>\n</div>"
          },
          "metadata": {}
        }
      ]
    },
    {
      "metadata": {
        "trusted": true,
        "_uuid": "602a725709da64128a5ab8cd0f7dcc584aa01bbd"
      },
      "cell_type": "code",
      "source": "# Regression (L2 Penalty)\nfrom sklearn.linear_model import Ridge\nrid = Ridge(alpha=1.0)\nrid.fit(x, y) \n\nrid_predictions = rid.predict(x_test)\nrid_predictions = rid_predictions[:,0]\n\nmy_submission1 = pd.DataFrame({'Id': df_test.ids, 'OverallScore': rid_predictions})\nmy_submission1.to_csv('submission_ridge_JJ.csv', index=False)\n\n# model performed on ATScore label\nrid2 = rid.fit(x, y_AT)\nrid_pred2 = rid2.predict(x_test)\n\nprint(\"The Cross-val score for ATScore using Linear Regression with L2 Penalty is: \")\nprint(cross_val_score(rid2, x, y_AT))\n\n# first five of OverallScore submission\nmy_submission1.head() ",
      "execution_count": 48,
      "outputs": [
        {
          "output_type": "stream",
          "text": "The Cross-val score for ATScore using Linear Regression with L2 Penalty is: \n[ 4.83323526e-01 -2.17084942e+03 -2.44762167e+06]\n",
          "name": "stdout"
        },
        {
          "output_type": "stream",
          "text": "/opt/conda/lib/python3.6/site-packages/sklearn/model_selection/_split.py:2053: FutureWarning: You should specify a value for 'cv' instead of relying on the default value. The default value will change from 3 to 5 in version 0.22.\n  warnings.warn(CV_WARNING, FutureWarning)\n",
          "name": "stderr"
        },
        {
          "output_type": "execute_result",
          "execution_count": 48,
          "data": {
            "text/plain": "   Id  OverallScore\n0   1     90.829753\n1   2     85.199707\n2   3     90.302295\n3   4     88.402396\n4   5     88.574239",
            "text/html": "<div>\n<style scoped>\n    .dataframe tbody tr th:only-of-type {\n        vertical-align: middle;\n    }\n\n    .dataframe tbody tr th {\n        vertical-align: top;\n    }\n\n    .dataframe thead th {\n        text-align: right;\n    }\n</style>\n<table border=\"1\" class=\"dataframe\">\n  <thead>\n    <tr style=\"text-align: right;\">\n      <th></th>\n      <th>Id</th>\n      <th>OverallScore</th>\n    </tr>\n  </thead>\n  <tbody>\n    <tr>\n      <th>0</th>\n      <td>1</td>\n      <td>90.829753</td>\n    </tr>\n    <tr>\n      <th>1</th>\n      <td>2</td>\n      <td>85.199707</td>\n    </tr>\n    <tr>\n      <th>2</th>\n      <td>3</td>\n      <td>90.302295</td>\n    </tr>\n    <tr>\n      <th>3</th>\n      <td>4</td>\n      <td>88.402396</td>\n    </tr>\n    <tr>\n      <th>4</th>\n      <td>5</td>\n      <td>88.574239</td>\n    </tr>\n  </tbody>\n</table>\n</div>"
          },
          "metadata": {}
        }
      ]
    },
    {
      "metadata": {
        "trusted": true,
        "_uuid": "7055694f037075b9fa9d2b1d592174bdbd83ff87"
      },
      "cell_type": "code",
      "source": "# Regression (L1 Penalty)\nfrom sklearn import linear_model\nlas = linear_model.Lasso(alpha=0.1)\nlas.fit(x, y)\n\nlas_predictions = las.predict(x_test)\n\nmy_submission2 = pd.DataFrame({'Id': df_test.ids, 'OverallScore': las_predictions})\nmy_submission2.to_csv('submission_lasso_JJ.csv', index=False)\n\n# model performed on ATScore label\nlas2 = las.fit(x, y_AT)\nlas_pred2 = las2.predict(x_test)\n\nprint(\"The Cross-val score for ATScore using Linear Regression with L1 Penalty is: \")\nprint(cross_val_score(las2, x, y_AT))\n\n# first five of OverallScore submission\nmy_submission2.head() ",
      "execution_count": 49,
      "outputs": [
        {
          "output_type": "stream",
          "text": "/opt/conda/lib/python3.6/site-packages/sklearn/linear_model/coordinate_descent.py:492: ConvergenceWarning: Objective did not converge. You might want to increase the number of iterations. Fitting data with very small alpha may cause precision problems.\n  ConvergenceWarning)\n/opt/conda/lib/python3.6/site-packages/sklearn/linear_model/coordinate_descent.py:492: ConvergenceWarning: Objective did not converge. You might want to increase the number of iterations. Fitting data with very small alpha may cause precision problems.\n  ConvergenceWarning)\n/opt/conda/lib/python3.6/site-packages/sklearn/model_selection/_split.py:2053: FutureWarning: You should specify a value for 'cv' instead of relying on the default value. The default value will change from 3 to 5 in version 0.22.\n  warnings.warn(CV_WARNING, FutureWarning)\n",
          "name": "stderr"
        },
        {
          "output_type": "stream",
          "text": "The Cross-val score for ATScore using Linear Regression with L1 Penalty is: \n",
          "name": "stdout"
        },
        {
          "output_type": "stream",
          "text": "/opt/conda/lib/python3.6/site-packages/sklearn/linear_model/coordinate_descent.py:492: ConvergenceWarning: Objective did not converge. You might want to increase the number of iterations. Fitting data with very small alpha may cause precision problems.\n  ConvergenceWarning)\n/opt/conda/lib/python3.6/site-packages/sklearn/linear_model/coordinate_descent.py:492: ConvergenceWarning: Objective did not converge. You might want to increase the number of iterations. Fitting data with very small alpha may cause precision problems.\n  ConvergenceWarning)\n",
          "name": "stderr"
        },
        {
          "output_type": "stream",
          "text": "[0.4655808  0.52524703 0.51948065]\n",
          "name": "stdout"
        },
        {
          "output_type": "stream",
          "text": "/opt/conda/lib/python3.6/site-packages/sklearn/linear_model/coordinate_descent.py:492: ConvergenceWarning: Objective did not converge. You might want to increase the number of iterations. Fitting data with very small alpha may cause precision problems.\n  ConvergenceWarning)\n",
          "name": "stderr"
        },
        {
          "output_type": "execute_result",
          "execution_count": 49,
          "data": {
            "text/plain": "   Id  OverallScore\n0   1     90.571339\n1   2     85.149199\n2   3     90.211518\n3   4     88.633609\n4   5     88.688132",
            "text/html": "<div>\n<style scoped>\n    .dataframe tbody tr th:only-of-type {\n        vertical-align: middle;\n    }\n\n    .dataframe tbody tr th {\n        vertical-align: top;\n    }\n\n    .dataframe thead th {\n        text-align: right;\n    }\n</style>\n<table border=\"1\" class=\"dataframe\">\n  <thead>\n    <tr style=\"text-align: right;\">\n      <th></th>\n      <th>Id</th>\n      <th>OverallScore</th>\n    </tr>\n  </thead>\n  <tbody>\n    <tr>\n      <th>0</th>\n      <td>1</td>\n      <td>90.571339</td>\n    </tr>\n    <tr>\n      <th>1</th>\n      <td>2</td>\n      <td>85.149199</td>\n    </tr>\n    <tr>\n      <th>2</th>\n      <td>3</td>\n      <td>90.211518</td>\n    </tr>\n    <tr>\n      <th>3</th>\n      <td>4</td>\n      <td>88.633609</td>\n    </tr>\n    <tr>\n      <th>4</th>\n      <td>5</td>\n      <td>88.688132</td>\n    </tr>\n  </tbody>\n</table>\n</div>"
          },
          "metadata": {}
        }
      ]
    },
    {
      "metadata": {
        "trusted": true,
        "_uuid": "d0fd1b3c086ffb23ddef0240c95b6af2780f9910"
      },
      "cell_type": "code",
      "source": "# XGBoost\n# from xgboost import XGBRegressor\nimport xgboost as xgb\nfrom scipy import stats\nfrom sklearn.model_selection import *\nfrom sklearn.model_selection import GridSearchCV\n\nxg_model = xgb.XGBRegressor()\nparameters1 = {'max_depth': [4, 5],\n              'min_child_weight': [1, 2],\n               'learning_rate': [0.06, 0.07],\n              'subsample': [0.8],\n              'colsample_bytree': [0.95],\n              'n_estimators': [2300, 2350],\n                'gamma': [0.4],\n              'res_alpha': [0.15],\n              'reg_lambda': [3],\n              'seed': [0]}\nxgcv = GridSearchCV(xg_model, parameters1, n_jobs=5, \n                   cv=2, \n                   verbose=True)\nxgcv.fit(x, y)\nprint(xgcv.best_params_) # print best parameters using GridSearchCV\n\nxg_pred = xgcv.predict(x_test)\nxg_pred\n\nmy_submission4 = pd.DataFrame({'Id': df_test.ids, 'OverallScore': xg_pred})\nmy_submission4.to_csv('submission_xgboost_JJ.csv', index=False)",
      "execution_count": 35,
      "outputs": [
        {
          "output_type": "stream",
          "text": "Fitting 2 folds for each of 16 candidates, totalling 32 fits\n",
          "name": "stdout"
        },
        {
          "output_type": "stream",
          "text": "[Parallel(n_jobs=5)]: Using backend LokyBackend with 5 concurrent workers.\n[Parallel(n_jobs=5)]: Done  32 out of  32 | elapsed:  9.1min finished\n",
          "name": "stderr"
        },
        {
          "output_type": "stream",
          "text": "{'colsample_bytree': 0.95, 'gamma': 0.4, 'learning_rate': 0.07, 'max_depth': 4, 'min_child_weight': 2, 'n_estimators': 2350, 'reg_lambda': 3, 'res_alpha': 0.15, 'seed': 0, 'subsample': 0.8}\n",
          "name": "stdout"
        }
      ]
    },
    {
      "metadata": {
        "trusted": true,
        "_uuid": "261f2921a15864a64d71688966e55e484ce0d6a3"
      },
      "cell_type": "code",
      "source": "import xgboost as xgb\n# model performed on ATScore label\nxg_model_AT = xgb.XGBRegressor(colsample_bytree=0.95, \n                         gamma=0.4, learning_rate=0.07, max_depth=4, \n                         min_child_weight=2, n_estimators=2350,reg_lambda=3, \n                         res_alpha=0.15, seed=0, subsample=0.8)\nxgAT = xg_model_AT.fit(x, y_AT)\nxgAT_pred = xgAT.predict(x_test)\n\nprint(\"The Cross-val score for ATScore using XGBoost is: \")\nprint(cross_val_score(xg_model_AT, x, y_AT))\n\n# first five of OverallScore submission\nmy_submission4.head() ",
      "execution_count": 36,
      "outputs": [
        {
          "output_type": "stream",
          "text": "The Cross-val score for ATScore using XGBoost is: \n",
          "name": "stdout"
        },
        {
          "output_type": "stream",
          "text": "/opt/conda/lib/python3.6/site-packages/sklearn/model_selection/_split.py:2053: FutureWarning: You should specify a value for 'cv' instead of relying on the default value. The default value will change from 3 to 5 in version 0.22.\n  warnings.warn(CV_WARNING, FutureWarning)\n",
          "name": "stderr"
        },
        {
          "output_type": "stream",
          "text": "[0.79724482 0.85278916 0.6031845 ]\n",
          "name": "stdout"
        },
        {
          "output_type": "execute_result",
          "execution_count": 36,
          "data": {
            "text/plain": "   Id  OverallScore\n0   1     90.487244\n1   2     88.721062\n2   3     79.013756\n3   4     92.305901\n4   5     89.127769",
            "text/html": "<div>\n<style scoped>\n    .dataframe tbody tr th:only-of-type {\n        vertical-align: middle;\n    }\n\n    .dataframe tbody tr th {\n        vertical-align: top;\n    }\n\n    .dataframe thead th {\n        text-align: right;\n    }\n</style>\n<table border=\"1\" class=\"dataframe\">\n  <thead>\n    <tr style=\"text-align: right;\">\n      <th></th>\n      <th>Id</th>\n      <th>OverallScore</th>\n    </tr>\n  </thead>\n  <tbody>\n    <tr>\n      <th>0</th>\n      <td>1</td>\n      <td>90.487244</td>\n    </tr>\n    <tr>\n      <th>1</th>\n      <td>2</td>\n      <td>88.721062</td>\n    </tr>\n    <tr>\n      <th>2</th>\n      <td>3</td>\n      <td>79.013756</td>\n    </tr>\n    <tr>\n      <th>3</th>\n      <td>4</td>\n      <td>92.305901</td>\n    </tr>\n    <tr>\n      <th>4</th>\n      <td>5</td>\n      <td>89.127769</td>\n    </tr>\n  </tbody>\n</table>\n</div>"
          },
          "metadata": {}
        }
      ]
    },
    {
      "metadata": {
        "trusted": true,
        "_uuid": "107fd21a713333689c48b7c67df0b6c68adf58d6"
      },
      "cell_type": "code",
      "source": "# Elastic Net Regression (A type of Regression we did not cover in class)\nfrom sklearn.linear_model import ElasticNet\nfrom sklearn.datasets import make_regression\n\nenregr = ElasticNet(random_state=0)\nenregr.fit(x, y)\n\nen_pred = enregr.predict(x_test)\nen_pred\n\nmy_submission5 = pd.DataFrame({'Id': df_test.ids, 'OverallScore': en_pred})\nmy_submission5.to_csv('submission_elastic_net_regr_JJ.csv', index=False)\n\n# model performed on ATScore label\nen2 = enregr.fit(x, y_AT)\nen_pred2 = en2.predict(x_test)\n\nprint(\"The Cross-val score for ATScore using Elastic Net Regression is: \")\nprint(cross_val_score(en2, x, y_AT))\n\n# first five of OverallScore submission\nmy_submission5.head() ",
      "execution_count": 37,
      "outputs": [
        {
          "output_type": "stream",
          "text": "/opt/conda/lib/python3.6/site-packages/sklearn/linear_model/coordinate_descent.py:492: ConvergenceWarning: Objective did not converge. You might want to increase the number of iterations. Fitting data with very small alpha may cause precision problems.\n  ConvergenceWarning)\n/opt/conda/lib/python3.6/site-packages/sklearn/linear_model/coordinate_descent.py:492: ConvergenceWarning: Objective did not converge. You might want to increase the number of iterations. Fitting data with very small alpha may cause precision problems.\n  ConvergenceWarning)\n/opt/conda/lib/python3.6/site-packages/sklearn/model_selection/_split.py:2053: FutureWarning: You should specify a value for 'cv' instead of relying on the default value. The default value will change from 3 to 5 in version 0.22.\n  warnings.warn(CV_WARNING, FutureWarning)\n",
          "name": "stderr"
        },
        {
          "output_type": "stream",
          "text": "The Cross-val score for ATScore using Elastic Net Regression is: \n",
          "name": "stdout"
        },
        {
          "output_type": "stream",
          "text": "/opt/conda/lib/python3.6/site-packages/sklearn/linear_model/coordinate_descent.py:492: ConvergenceWarning: Objective did not converge. You might want to increase the number of iterations. Fitting data with very small alpha may cause precision problems.\n  ConvergenceWarning)\n/opt/conda/lib/python3.6/site-packages/sklearn/linear_model/coordinate_descent.py:492: ConvergenceWarning: Objective did not converge. You might want to increase the number of iterations. Fitting data with very small alpha may cause precision problems.\n  ConvergenceWarning)\n",
          "name": "stderr"
        },
        {
          "output_type": "stream",
          "text": "[0.23508348 0.31270202 0.30107289]\n",
          "name": "stdout"
        },
        {
          "output_type": "stream",
          "text": "/opt/conda/lib/python3.6/site-packages/sklearn/linear_model/coordinate_descent.py:492: ConvergenceWarning: Objective did not converge. You might want to increase the number of iterations. Fitting data with very small alpha may cause precision problems.\n  ConvergenceWarning)\n",
          "name": "stderr"
        },
        {
          "output_type": "execute_result",
          "execution_count": 37,
          "data": {
            "text/plain": "   Id  OverallScore\n0   1     87.963184\n1   2     85.939006\n2   3     87.460707\n3   4     86.037650\n4   5     86.337803",
            "text/html": "<div>\n<style scoped>\n    .dataframe tbody tr th:only-of-type {\n        vertical-align: middle;\n    }\n\n    .dataframe tbody tr th {\n        vertical-align: top;\n    }\n\n    .dataframe thead th {\n        text-align: right;\n    }\n</style>\n<table border=\"1\" class=\"dataframe\">\n  <thead>\n    <tr style=\"text-align: right;\">\n      <th></th>\n      <th>Id</th>\n      <th>OverallScore</th>\n    </tr>\n  </thead>\n  <tbody>\n    <tr>\n      <th>0</th>\n      <td>1</td>\n      <td>87.963184</td>\n    </tr>\n    <tr>\n      <th>1</th>\n      <td>2</td>\n      <td>85.939006</td>\n    </tr>\n    <tr>\n      <th>2</th>\n      <td>3</td>\n      <td>87.460707</td>\n    </tr>\n    <tr>\n      <th>3</th>\n      <td>4</td>\n      <td>86.037650</td>\n    </tr>\n    <tr>\n      <th>4</th>\n      <td>5</td>\n      <td>86.337803</td>\n    </tr>\n  </tbody>\n</table>\n</div>"
          },
          "metadata": {}
        }
      ]
    },
    {
      "metadata": {
        "trusted": true,
        "_uuid": "4fc938c38a6fa8b3485273c3adf9daad363ee424"
      },
      "cell_type": "code",
      "source": "# Random Forest\nfrom sklearn.ensemble import RandomForestRegressor\nfrom sklearn.datasets import make_regression\n\nregr = RandomForestRegressor(max_depth=2, random_state=0,\n                             n_estimators=100)\nregr.fit(x, y)\n\nrf_pred = regr.predict(x_test)\nrf_pred\n\nmy_submission6 = pd.DataFrame({'Id': df_test.ids, 'OverallScore': rf_pred})\nmy_submission6.to_csv('submission_random_forest_JJ.csv', index=False)\n\n# model performed on ATScore label\nrf2 = regr.fit(x, y_AT)\nrf_pred2 = rf2.predict(x_test)",
      "execution_count": 38,
      "outputs": [
        {
          "output_type": "stream",
          "text": "/opt/conda/lib/python3.6/site-packages/ipykernel_launcher.py:7: DataConversionWarning: A column-vector y was passed when a 1d array was expected. Please change the shape of y to (n_samples,), for example using ravel().\n  import sys\n/opt/conda/lib/python3.6/site-packages/ipykernel_launcher.py:16: DataConversionWarning: A column-vector y was passed when a 1d array was expected. Please change the shape of y to (n_samples,), for example using ravel().\n  app.launch_new_instance()\n",
          "name": "stderr"
        }
      ]
    },
    {
      "metadata": {
        "trusted": true,
        "_uuid": "06db98fb946833b95a0a794e22e8e5575b3b008f"
      },
      "cell_type": "code",
      "source": "print(\"The Cross-val score for ATScore using Random Forest is: \")\nprint(cross_val_score(rf2, x, y_AT))\n\n# first five of OverallScore submission\nmy_submission6.head() ",
      "execution_count": 39,
      "outputs": [
        {
          "output_type": "stream",
          "text": "The Cross-val score for ATScore using Random Forest is: \n",
          "name": "stdout"
        },
        {
          "output_type": "stream",
          "text": "/opt/conda/lib/python3.6/site-packages/sklearn/model_selection/_split.py:2053: FutureWarning: You should specify a value for 'cv' instead of relying on the default value. The default value will change from 3 to 5 in version 0.22.\n  warnings.warn(CV_WARNING, FutureWarning)\n/opt/conda/lib/python3.6/site-packages/sklearn/model_selection/_validation.py:528: DataConversionWarning: A column-vector y was passed when a 1d array was expected. Please change the shape of y to (n_samples,), for example using ravel().\n  estimator.fit(X_train, y_train, **fit_params)\n/opt/conda/lib/python3.6/site-packages/sklearn/model_selection/_validation.py:528: DataConversionWarning: A column-vector y was passed when a 1d array was expected. Please change the shape of y to (n_samples,), for example using ravel().\n  estimator.fit(X_train, y_train, **fit_params)\n/opt/conda/lib/python3.6/site-packages/sklearn/model_selection/_validation.py:528: DataConversionWarning: A column-vector y was passed when a 1d array was expected. Please change the shape of y to (n_samples,), for example using ravel().\n  estimator.fit(X_train, y_train, **fit_params)\n",
          "name": "stderr"
        },
        {
          "output_type": "stream",
          "text": "[0.44736611 0.48060316 0.47044245]\n",
          "name": "stdout"
        },
        {
          "output_type": "execute_result",
          "execution_count": 39,
          "data": {
            "text/plain": "   Id  OverallScore\n0   1     89.728791\n1   2     84.251219\n2   3     88.025988\n3   4     87.850218\n4   5     89.728791",
            "text/html": "<div>\n<style scoped>\n    .dataframe tbody tr th:only-of-type {\n        vertical-align: middle;\n    }\n\n    .dataframe tbody tr th {\n        vertical-align: top;\n    }\n\n    .dataframe thead th {\n        text-align: right;\n    }\n</style>\n<table border=\"1\" class=\"dataframe\">\n  <thead>\n    <tr style=\"text-align: right;\">\n      <th></th>\n      <th>Id</th>\n      <th>OverallScore</th>\n    </tr>\n  </thead>\n  <tbody>\n    <tr>\n      <th>0</th>\n      <td>1</td>\n      <td>89.728791</td>\n    </tr>\n    <tr>\n      <th>1</th>\n      <td>2</td>\n      <td>84.251219</td>\n    </tr>\n    <tr>\n      <th>2</th>\n      <td>3</td>\n      <td>88.025988</td>\n    </tr>\n    <tr>\n      <th>3</th>\n      <td>4</td>\n      <td>87.850218</td>\n    </tr>\n    <tr>\n      <th>4</th>\n      <td>5</td>\n      <td>89.728791</td>\n    </tr>\n  </tbody>\n</table>\n</div>"
          },
          "metadata": {}
        }
      ]
    },
    {
      "metadata": {
        "trusted": true,
        "_uuid": "42333750a234cabd37839723aca76d41c48c6381"
      },
      "cell_type": "code",
      "source": "# Dimensionality Reduction using PCA (Principal Component Analysis)\nfrom sklearn.decomposition import PCA\n\npca = PCA(.95) # scikit-learn chooses the minimum number of principal components such that 95% of the variance is retained.\npca = pca.fit(x)\n\nx_pca = pca.transform(x)\nx_test_pca = pca.transform(x_test)",
      "execution_count": 44,
      "outputs": []
    },
    {
      "metadata": {
        "trusted": true,
        "_uuid": "c04a6d75ce7019601b18f8528a8ef15171c16943"
      },
      "cell_type": "code",
      "source": "# Performs XGBoost Regressor on data frame after Dimensionality Reduction with PCA\n\nfrom xgboost import XGBRegressor\n\ndr = XGBRegressor(colsample_bytree=0.95, \n                         gamma=0.4, learning_rate=0.07, max_depth=4, \n                         min_child_weight=2, n_estimators=2350,reg_lambda=3, \n                         res_alpha=0.15, seed=0, subsample=0.8)\n# Add silent=True to avoid printing out updates with each cycle\ndr.fit(x_pca, y, verbose=False)\n\ndr_pred = dr.predict(x_test_pca)\ndr_pred\n\nmy_submission7 = pd.DataFrame({'Id': df_test.ids, 'OverallScore': dr_pred})\nmy_submission7.to_csv('submission_dimension_reduc_JJ.csv', index=False)\n\n# model performed on ATScore label\ndr2 = dr.fit(x_pca, y_AT)\ndr_pred2 = dr2.predict(x_test_pca)\n\nprint(\"The Cross-val score for ATScore using Dimensionality Reduction is: \")\nprint(cross_val_score(dr2, x_pca, y_AT))\n\n# first five of OverallScore submission\nmy_submission7.head()",
      "execution_count": 45,
      "outputs": [
        {
          "output_type": "stream",
          "text": "The Cross-val score for ATScore using Dimensionality Reduction is: \n",
          "name": "stdout"
        },
        {
          "output_type": "stream",
          "text": "/opt/conda/lib/python3.6/site-packages/sklearn/model_selection/_split.py:2053: FutureWarning: You should specify a value for 'cv' instead of relying on the default value. The default value will change from 3 to 5 in version 0.22.\n  warnings.warn(CV_WARNING, FutureWarning)\n",
          "name": "stderr"
        },
        {
          "output_type": "stream",
          "text": "[ 0.26899024  0.31993544 -0.20354329]\n",
          "name": "stdout"
        },
        {
          "output_type": "execute_result",
          "execution_count": 45,
          "data": {
            "text/plain": "   Id  OverallScore\n0   1     86.330582\n1   2     87.166573\n2   3     85.987968\n3   4     85.438576\n4   5     86.961128",
            "text/html": "<div>\n<style scoped>\n    .dataframe tbody tr th:only-of-type {\n        vertical-align: middle;\n    }\n\n    .dataframe tbody tr th {\n        vertical-align: top;\n    }\n\n    .dataframe thead th {\n        text-align: right;\n    }\n</style>\n<table border=\"1\" class=\"dataframe\">\n  <thead>\n    <tr style=\"text-align: right;\">\n      <th></th>\n      <th>Id</th>\n      <th>OverallScore</th>\n    </tr>\n  </thead>\n  <tbody>\n    <tr>\n      <th>0</th>\n      <td>1</td>\n      <td>86.330582</td>\n    </tr>\n    <tr>\n      <th>1</th>\n      <td>2</td>\n      <td>87.166573</td>\n    </tr>\n    <tr>\n      <th>2</th>\n      <td>3</td>\n      <td>85.987968</td>\n    </tr>\n    <tr>\n      <th>3</th>\n      <td>4</td>\n      <td>85.438576</td>\n    </tr>\n    <tr>\n      <th>4</th>\n      <td>5</td>\n      <td>86.961128</td>\n    </tr>\n  </tbody>\n</table>\n</div>"
          },
          "metadata": {}
        }
      ]
    },
    {
      "metadata": {
        "trusted": true,
        "_uuid": "5ee6d0fb9c99bd602a13a22a73f6be7b0bee29a6"
      },
      "cell_type": "code",
      "source": "# Feature Selection using Univariate Feature Selection with selectKBest, which removes all but the k highest scoring features\nfrom sklearn.feature_selection import SelectKBest\nfrom sklearn.feature_selection import mutual_info_regression\n\nselect = SelectKBest(mutual_info_regression, k=20).fit(x, y) # score_func = mutual_info_regression, k = 20\nx_new = select.transform(x)\nx_test_new = select.transform(x_test)",
      "execution_count": 42,
      "outputs": [
        {
          "output_type": "stream",
          "text": "/opt/conda/lib/python3.6/site-packages/sklearn/utils/validation.py:761: DataConversionWarning: A column-vector y was passed when a 1d array was expected. Please change the shape of y to (n_samples, ), for example using ravel().\n  y = column_or_1d(y, warn=True)\n",
          "name": "stderr"
        }
      ]
    },
    {
      "metadata": {
        "trusted": true,
        "_uuid": "c62966d0f1333054fcc606145f0508224e99cb14"
      },
      "cell_type": "code",
      "source": "# Performs XGBoost Regressor on data frame after Feature Selection\nfrom xgboost import XGBRegressor\n\nfs = XGBRegressor(colsample_bytree=0.95, \n                         gamma=0.4, learning_rate=0.07, max_depth=4, \n                         min_child_weight=2, n_estimators=2350,reg_lambda=3, \n                         res_alpha=0.15, seed=0, subsample=0.8)\n# Add silent=True to avoid printing out updates with each cycle\nfs.fit(x_new, y, verbose=False)\n\nfs_pred = fs.predict(x_test_new)\n\nmy_submission8 = pd.DataFrame({'Id': df_test.ids, 'OverallScore': fs_pred})\nmy_submission8.to_csv('submission_feature_select_JJ.csv', index=False)\n\n# model performed on ATScore label\nfs2 = fs.fit(x_new, y_AT)\nfs_pred = fs2.predict(x_test_new)\n\nprint(\"The Cross-val score for ATScore using Feature Selection is: \")\nprint(cross_val_score(fs2, x_new, y_AT))\n\n# first five of OverallScore submission\nmy_submission8.head() ",
      "execution_count": 43,
      "outputs": [
        {
          "output_type": "stream",
          "text": "The Cross-val score for ATScore using Feature Selection is: \n",
          "name": "stdout"
        },
        {
          "output_type": "stream",
          "text": "/opt/conda/lib/python3.6/site-packages/sklearn/model_selection/_split.py:2053: FutureWarning: You should specify a value for 'cv' instead of relying on the default value. The default value will change from 3 to 5 in version 0.22.\n  warnings.warn(CV_WARNING, FutureWarning)\n",
          "name": "stderr"
        },
        {
          "output_type": "stream",
          "text": "[0.80738888 0.8576603  0.6489322 ]\n",
          "name": "stdout"
        },
        {
          "output_type": "execute_result",
          "execution_count": 43,
          "data": {
            "text/plain": "   Id  OverallScore\n0   1     90.174828\n1   2     88.688339\n2   3     82.361755\n3   4     92.404274\n4   5     85.471199",
            "text/html": "<div>\n<style scoped>\n    .dataframe tbody tr th:only-of-type {\n        vertical-align: middle;\n    }\n\n    .dataframe tbody tr th {\n        vertical-align: top;\n    }\n\n    .dataframe thead th {\n        text-align: right;\n    }\n</style>\n<table border=\"1\" class=\"dataframe\">\n  <thead>\n    <tr style=\"text-align: right;\">\n      <th></th>\n      <th>Id</th>\n      <th>OverallScore</th>\n    </tr>\n  </thead>\n  <tbody>\n    <tr>\n      <th>0</th>\n      <td>1</td>\n      <td>90.174828</td>\n    </tr>\n    <tr>\n      <th>1</th>\n      <td>2</td>\n      <td>88.688339</td>\n    </tr>\n    <tr>\n      <th>2</th>\n      <td>3</td>\n      <td>82.361755</td>\n    </tr>\n    <tr>\n      <th>3</th>\n      <td>4</td>\n      <td>92.404274</td>\n    </tr>\n    <tr>\n      <th>4</th>\n      <td>5</td>\n      <td>85.471199</td>\n    </tr>\n  </tbody>\n</table>\n</div>"
          },
          "metadata": {}
        }
      ]
    }
  ],
  "metadata": {
    "kernelspec": {
      "display_name": "Python 3",
      "language": "python",
      "name": "python3"
    },
    "language_info": {
      "name": "python",
      "version": "3.6.6",
      "mimetype": "text/x-python",
      "codemirror_mode": {
        "name": "ipython",
        "version": 3
      },
      "pygments_lexer": "ipython3",
      "nbconvert_exporter": "python",
      "file_extension": ".py"
    }
  },
  "nbformat": 4,
  "nbformat_minor": 1
}