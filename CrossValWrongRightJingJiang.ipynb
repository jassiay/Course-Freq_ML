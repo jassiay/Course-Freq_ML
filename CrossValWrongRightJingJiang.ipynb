{
 "cells": [
  {
   "cell_type": "markdown",
   "metadata": {},
   "source": [
    "### ECE 475 Freq Machine Learning Example 7.10.2\n",
    "\n",
    "#### Wrong and Right way to do Cross Validation\n",
    "\n",
    "Jing Jiang"
   ]
  },
  {
   "cell_type": "code",
   "execution_count": 278,
   "metadata": {},
   "outputs": [],
   "source": [
    "import pandas as pd\n",
    "import numpy as np\n",
    "import matplotlib.pyplot as plt\n",
    "%matplotlib inline\n",
    "\n",
    "from sklearn.linear_model import LogisticRegression\n",
    "from sklearn.model_selection import cross_val_score\n",
    "from sklearn.cross_validation import *\n",
    "from sklearn.metrics import *\n",
    "import random"
   ]
  },
  {
   "cell_type": "code",
   "execution_count": 302,
   "metadata": {},
   "outputs": [
    {
     "data": {
      "text/plain": [
       "(50, 5001)"
      ]
     },
     "execution_count": 302,
     "metadata": {},
     "output_type": "execute_result"
    }
   ],
   "source": [
    "np.random.seed(12)\n",
    "num_preds = 5000\n",
    "\n",
    "x = []\n",
    "for n in range(num_preds):\n",
    "    x.append(np.random.normal(0, 0.1, 50).astype(np.float32))\n",
    "\n",
    "x1 = np.asarray(x)\n",
    "x1 = np.transpose(x1)\n",
    "y1 = np.hstack((np.zeros(25),np.ones(25)))\n",
    "random.shuffle(y1)\n",
    "\n",
    "df = pd.DataFrame(x1)\n",
    "df['target'] = y1\n",
    "df.shape"
   ]
  },
  {
   "cell_type": "markdown",
   "metadata": {},
   "source": [
    "### The Wrong Way"
   ]
  },
  {
   "cell_type": "code",
   "execution_count": 280,
   "metadata": {},
   "outputs": [
    {
     "data": {
      "text/plain": [
       "734     0.533522\n",
       "1022    0.521323\n",
       "513     0.477817\n",
       "3309    0.472461\n",
       "722     0.469705\n",
       "Name: target, dtype: float64"
      ]
     },
     "execution_count": 280,
     "metadata": {},
     "output_type": "execute_result"
    }
   ],
   "source": [
    "corr2 = df.corr()['target'][df.corr()['target'] < 1]\n",
    "corr = corr2.abs().sort_values(ascending=False)\n",
    "\n",
    "corr.head()"
   ]
  },
  {
   "cell_type": "code",
   "execution_count": 296,
   "metadata": {},
   "outputs": [],
   "source": [
    "features = corr.index[[range(100)]].values\n",
    "\n",
    "training_input  = df[features].values\n",
    "training_output = df['target']\n",
    "logreg = LogisticRegression()\n",
    "mse_estimate = -1 * cross_val_score(logreg,training_input,training_output,cv=10,scoring='neg_mean_squared_error')"
   ]
  },
  {
   "cell_type": "code",
   "execution_count": 295,
   "metadata": {},
   "outputs": [
    {
     "data": {
      "text/plain": [
       "0    0.075\n",
       "dtype: float64"
      ]
     },
     "execution_count": 295,
     "metadata": {},
     "output_type": "execute_result"
    }
   ],
   "source": [
    "pd.DataFrame(mse_estimate).mean()"
   ]
  },
  {
   "cell_type": "markdown",
   "metadata": {},
   "source": [
    "As mentioned in the book, the true error rate of any classifier is 50%. Using the wrong way, we get 7.5%."
   ]
  },
  {
   "cell_type": "code",
   "execution_count": 334,
   "metadata": {},
   "outputs": [
    {
     "data": {
      "text/plain": [
       "(array([ 4., 11., 18., 24., 18., 12.,  7.,  6.]),\n",
       " array([-0.6778734 , -0.50590463, -0.33393586, -0.16196709,  0.01000168,\n",
       "         0.18197045,  0.35393922,  0.525908  ,  0.69787677]),\n",
       " <a list of 8 Patch objects>)"
      ]
     },
     "execution_count": 334,
     "metadata": {},
     "output_type": "execute_result"
    },
    {
     "data": {
      "image/png": "[encoded data removed]",
      "text/plain": [
       "<Figure size 432x288 with 1 Axes>"
      ]
     },
     "metadata": {},
     "output_type": "display_data"
    }
   ],
   "source": [
    "df_elements = df.sample(n=10)\n",
    "corr3 = df_elements.corr()['target'][df.corr()['target'] < 1]\n",
    "plt.hist(corr3[features], bins='auto')"
   ]
  },
  {
   "cell_type": "markdown",
   "metadata": {},
   "source": [
    "Using the wrong way, the histogram of correlation does not averages at 0."
   ]
  },
  {
   "cell_type": "markdown",
   "metadata": {},
   "source": [
    "### The Right Way"
   ]
  },
  {
   "cell_type": "code",
   "execution_count": 284,
   "metadata": {},
   "outputs": [],
   "source": [
    "kf = StratifiedKFold (df['target'], n_folds=10)\n",
    "mse = []\n",
    "fold_count = 0\n",
    "for train, test in kf:\n",
    "    train_fold = df.iloc[train]\n",
    "    test_fold = df.iloc[test]\n",
    "    \n",
    "    corr2 = train_fold.corr()['target'][train_fold.corr()['target'] < 1]\n",
    "    corr = corr2.abs().sort_values(ascending=False)\n",
    "    features = corr.index[[range(100)]].values\n",
    "    \n",
    "    train_fold_input  = train_fold[features].values\n",
    "    train_fold_output = train_fold['target']\n",
    "    \n",
    "    logreg = LogisticRegression()\n",
    "    logreg.fit(train_fold_input, train_fold_output)\n",
    "    \n",
    "    pred = logreg.predict(test_fold[features])\n",
    "    mse.append(mean_squared_error(test_fold.target, pred))\n",
    "    \n",
    "    fold_count += 1\n"
   ]
  },
  {
   "cell_type": "code",
   "execution_count": 285,
   "metadata": {},
   "outputs": [
    {
     "data": {
      "text/plain": [
       "0    0.516667\n",
       "dtype: float64"
      ]
     },
     "execution_count": 285,
     "metadata": {},
     "output_type": "execute_result"
    }
   ],
   "source": [
    "pd.DataFrame(mse).mean()"
   ]
  },
  {
   "cell_type": "markdown",
   "metadata": {},
   "source": [
    "As mentioned in the book, the true error rate of any classifier is 50%. Using the right way, we get 51.7%."
   ]
  },
  {
   "cell_type": "code",
   "execution_count": 342,
   "metadata": {},
   "outputs": [
    {
     "data": {
      "text/plain": [
       "(array([ 3.,  5., 13., 16., 25., 17., 12.,  6.,  3.]),\n",
       " array([-0.39117692, -0.30386776, -0.2165586 , -0.12924943, -0.04194027,\n",
       "         0.04536889,  0.13267805,  0.21998721,  0.30729638,  0.39460554]),\n",
       " <a list of 9 Patch objects>)"
      ]
     },
     "execution_count": 342,
     "metadata": {},
     "output_type": "execute_result"
    },
    {
     "data": {
      "image/png": "[encoded data removed]",
      "text/plain": [
       "<Figure size 432x288 with 1 Axes>"
      ]
     },
     "metadata": {},
     "output_type": "display_data"
    }
   ],
   "source": [
    "index = np.random.randint(0,5000,size=100)\n",
    "plt.hist(corr2[index], bins='auto')"
   ]
  },
  {
   "cell_type": "markdown",
   "metadata": {},
   "source": [
    "Using the right way, the histogram of correlation averages at 0."
   ]
  },
  {
   "cell_type": "code",
   "execution_count": null,
   "metadata": {},
   "outputs": [],
   "source": []
  }
 ],
 "metadata": {
  "kernelspec": {
   "display_name": "Python 3",
   "language": "python",
   "name": "python3"
  },
  "language_info": {
   "codemirror_mode": {
    "name": "ipython",
    "version": 3
   },
   "file_extension": ".py",
   "mimetype": "text/x-python",
   "name": "python",
   "nbconvert_exporter": "python",
   "pygments_lexer": "ipython3",
   "version": "3.6.5"
  }
 },
 "nbformat": 4,
 "nbformat_minor": 2
}
